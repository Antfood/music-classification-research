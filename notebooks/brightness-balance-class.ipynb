{
 "cells": [
  {
   "cell_type": "markdown",
   "id": "44446157",
   "metadata": {},
   "source": [
    "## Class Distribution\n",
    "\n",
    "- Previous data was unbalanced and training was unsuccessful\n",
    "- Balance brightness class for new round of explorations \n"
   ]
  },
  {
   "cell_type": "code",
   "execution_count": 1,
   "id": "3d6836c2",
   "metadata": {},
   "outputs": [],
   "source": [
    "import pandas as pd\n",
    "import matplotlib.pyplot as plt"
   ]
  },
  {
   "cell_type": "code",
   "execution_count": 2,
   "id": "22be265a",
   "metadata": {},
   "outputs": [
    {
     "data": {
      "text/html": [
       "<div>\n",
       "<style scoped>\n",
       "    .dataframe tbody tr th:only-of-type {\n",
       "        vertical-align: middle;\n",
       "    }\n",
       "\n",
       "    .dataframe tbody tr th {\n",
       "        vertical-align: top;\n",
       "    }\n",
       "\n",
       "    .dataframe thead th {\n",
       "        text-align: right;\n",
       "    }\n",
       "</style>\n",
       "<table border=\"1\" class=\"dataframe\">\n",
       "  <thead>\n",
       "    <tr style=\"text-align: right;\">\n",
       "      <th></th>\n",
       "      <th>audio_path</th>\n",
       "      <th>temp</th>\n",
       "    </tr>\n",
       "  </thead>\n",
       "  <tbody>\n",
       "    <tr>\n",
       "      <th>0</th>\n",
       "      <td>data/split_audio/01_Rocket_And_The_Ghost_Albuq...</td>\n",
       "      <td>65</td>\n",
       "    </tr>\n",
       "    <tr>\n",
       "      <th>1</th>\n",
       "      <td>data/split_audio/01_Rocket_And_The_Ghost_Albuq...</td>\n",
       "      <td>65</td>\n",
       "    </tr>\n",
       "    <tr>\n",
       "      <th>2</th>\n",
       "      <td>data/split_audio/01_Rocket_And_The_Ghost_Albuq...</td>\n",
       "      <td>65</td>\n",
       "    </tr>\n",
       "    <tr>\n",
       "      <th>3</th>\n",
       "      <td>data/split_audio/01_Rocket_And_The_Ghost_Albuq...</td>\n",
       "      <td>65</td>\n",
       "    </tr>\n",
       "    <tr>\n",
       "      <th>4</th>\n",
       "      <td>data/split_audio/01_Rocket_And_The_Ghost_Albuq...</td>\n",
       "      <td>65</td>\n",
       "    </tr>\n",
       "  </tbody>\n",
       "</table>\n",
       "</div>"
      ],
      "text/plain": [
       "                                          audio_path  temp\n",
       "0  data/split_audio/01_Rocket_And_The_Ghost_Albuq...    65\n",
       "1  data/split_audio/01_Rocket_And_The_Ghost_Albuq...    65\n",
       "2  data/split_audio/01_Rocket_And_The_Ghost_Albuq...    65\n",
       "3  data/split_audio/01_Rocket_And_The_Ghost_Albuq...    65\n",
       "4  data/split_audio/01_Rocket_And_The_Ghost_Albuq...    65"
      ]
     },
     "execution_count": 2,
     "metadata": {},
     "output_type": "execute_result"
    }
   ],
   "source": [
    "df = pd.read_csv('../data/cleaned_split_audio.csv')\n",
    "df.head()"
   ]
  },
  {
   "cell_type": "code",
   "execution_count": 7,
   "id": "bb918e06",
   "metadata": {},
   "outputs": [],
   "source": [
    "df['temp'] = df['temp'] // 10"
   ]
  },
  {
   "cell_type": "code",
   "execution_count": 13,
   "id": "6fb6cbe5",
   "metadata": {},
   "outputs": [
    {
     "data": {
      "text/plain": [
       "temp\n",
       "8     2191\n",
       "7      917\n",
       "6      834\n",
       "5      437\n",
       "1      399\n",
       "4      356\n",
       "3      296\n",
       "2      123\n",
       "9      103\n",
       "10      23\n",
       "0       10\n",
       "Name: count, dtype: int64"
      ]
     },
     "execution_count": 13,
     "metadata": {},
     "output_type": "execute_result"
    }
   ],
   "source": [
    "class_distribution = df['temp'].value_counts()\n",
    "\n",
    "class_distribution"
   ]
  },
  {
   "cell_type": "code",
   "execution_count": 16,
   "id": "32fa37af",
   "metadata": {},
   "outputs": [
    {
     "data": {
      "image/png": "[encoded data removed]",
      "text/plain": [
       "<Figure size 640x480 with 1 Axes>"
      ]
     },
     "metadata": {},
     "output_type": "display_data"
    }
   ],
   "source": [
    "plt.bar(class_distribution.index, class_distribution.values, color='blue')\n",
    "plt.xlabel('Class Label')\n",
    "plt.ylabel('Frequency')\n",
    "plt.title('Distribution of Class Labels')\n",
    "plt.show()"
   ]
  },
  {
   "cell_type": "code",
   "execution_count": 66,
   "id": "bb25f73f",
   "metadata": {},
   "outputs": [],
   "source": [
    "df = pd.read_csv('../data/raw-recordings.csv')"
   ]
  },
  {
   "cell_type": "code",
   "execution_count": 67,
   "id": "c4a5c3a2",
   "metadata": {},
   "outputs": [
    {
     "name": "stdout",
     "output_type": "stream",
     "text": [
      "<class 'pandas.core.frame.DataFrame'>\n",
      "RangeIndex: 6829 entries, 0 to 6828\n",
      "Data columns (total 6 columns):\n",
      " #   Column                            Non-Null Count  Dtype \n",
      "---  ------                            --------------  ----- \n",
      " 0   Filename                          6829 non-null   object\n",
      " 1   Recording_S3_LocationLink         6828 non-null   object\n",
      " 2   Streamable_S3_Key                 6829 non-null   object\n",
      " 3   Recordings                        6795 non-null   object\n",
      " 4   brightness                        6765 non-null   object\n",
      " 5   bp.Conventions (from Recordings)  6403 non-null   object\n",
      "dtypes: object(6)\n",
      "memory usage: 320.2+ KB\n"
     ]
    }
   ],
   "source": [
    "df.info()"
   ]
  },
  {
   "cell_type": "code",
   "execution_count": 68,
   "id": "c6cbf65f",
   "metadata": {},
   "outputs": [],
   "source": [
    "df.dropna(inplace=True)"
   ]
  },
  {
   "cell_type": "code",
   "execution_count": 69,
   "id": "ea2c4256",
   "metadata": {},
   "outputs": [
    {
     "data": {
      "text/plain": [
       "brightness\n",
       "7     1366\n",
       "6     1156\n",
       "8     1118\n",
       "3      665\n",
       "5      646\n",
       "4      599\n",
       "2      316\n",
       "1      272\n",
       "9      161\n",
       "0       74\n",
       "10      27\n",
       "Name: count, dtype: int64"
      ]
     },
     "execution_count": 69,
     "metadata": {},
     "output_type": "execute_result"
    }
   ],
   "source": [
    "def clean(value):\n",
    "   return value.isnumeric()\n",
    "\n",
    "df =  df[df['brightness'].apply(clean)]\n",
    "df['brightness'] = df['brightness'].astype(int) // 10\n",
    "df = df[df['brightness'].between(0, 10)]\n",
    "df['brightness'].value_counts()\n",
    "\n",
    "\n",
    "# brightness is very unbalanced too"
   ]
  },
  {
   "cell_type": "code",
   "execution_count": 87,
   "id": "6c6859dd",
   "metadata": {},
   "outputs": [
    {
     "data": {
      "text/plain": [
       "brightness\n",
       "7    1366\n",
       "6    1156\n",
       "8    1118\n",
       "3     665\n",
       "5     646\n",
       "4     599\n",
       "2     316\n",
       "1     272\n",
       "9     161\n",
       "Name: count, dtype: int64"
      ]
     },
     "execution_count": 87,
     "metadata": {},
     "output_type": "execute_result"
    }
   ],
   "source": [
    "# drop 0 and 10 classes \n",
    "df = df[df['brightness'].isin([0, 10]) == False]\n",
    "    \n",
    "df['brightness'].value_counts()"
   ]
  },
  {
   "cell_type": "code",
   "execution_count": 90,
   "id": "546adcb6",
   "metadata": {},
   "outputs": [
    {
     "data": {
      "text/plain": [
       "brightness\n",
       "1    161\n",
       "2    161\n",
       "3    161\n",
       "4    161\n",
       "5    161\n",
       "6    161\n",
       "7    161\n",
       "8    161\n",
       "9    161\n",
       "Name: count, dtype: int64"
      ]
     },
     "execution_count": 90,
     "metadata": {},
     "output_type": "execute_result"
    }
   ],
   "source": [
    "# the the class with the least count\n",
    "min_count = df['brightness'].value_counts().min()\n",
    "\n",
    "# balance out brightness class\n",
    "\n",
    "def balance(x):\n",
    "    return x.sample(min(len(x),min_count))\n",
    "    \n",
    "bal_df = df.groupby('brightness').apply(balance).reset_index(drop=True)\n",
    "bal_df['brightness'].value_counts()"
   ]
  },
  {
   "cell_type": "markdown",
   "id": "c20442e3",
   "metadata": {},
   "source": [
    "### Below we have a balanced dataset on brightness"
   ]
  },
  {
   "cell_type": "code",
   "execution_count": 94,
   "id": "56d4bd0e",
   "metadata": {},
   "outputs": [],
   "source": [
    "bal_df.to_csv('../data/balanced_brightness.csv')"
   ]
  },
  {
   "cell_type": "markdown",
   "id": "030d0884",
   "metadata": {},
   "source": [
    "### After split\n",
    "\n",
    "we had to download these files from s3. Some of them failed to download. We also split the audio files in 10 second chunks. Some tracks are longer then the other so this may unbalance the dataset from the above"
   ]
  },
  {
   "cell_type": "code",
   "execution_count": 102,
   "id": "aa342fd2",
   "metadata": {},
   "outputs": [
    {
     "data": {
      "text/plain": [
       "label\n",
       "3    956\n",
       "2    951\n",
       "4    919\n",
       "6    873\n",
       "7    860\n",
       "1    851\n",
       "5    692\n",
       "9    637\n",
       "8    587\n",
       "Name: count, dtype: int64"
      ]
     },
     "execution_count": 102,
     "metadata": {},
     "output_type": "execute_result"
    }
   ],
   "source": [
    "split_df = pd.read_csv('../data/balanced_brightness_split.csv')\n",
    "\n",
    "dist = split_df['label'].value_counts()\n",
    "\n",
    "dist\n"
   ]
  },
  {
   "cell_type": "code",
   "execution_count": 103,
   "id": "56f258a7",
   "metadata": {},
   "outputs": [
    {
     "data": {
      "image/png": "[encoded data removed]",
      "text/plain": [
       "<Figure size 640x480 with 1 Axes>"
      ]
     },
     "metadata": {},
     "output_type": "display_data"
    }
   ],
   "source": [
    "plt.bar(dist.index, dist.values, color='blue')\n",
    "plt.xlabel('Class Label')\n",
    "plt.ylabel('Frequency')\n",
    "plt.title('Distribution of Class Labels')\n",
    "plt.show()"
   ]
  },
  {
   "cell_type": "code",
   "execution_count": 2,
   "id": "ed519908",
   "metadata": {},
   "outputs": [],
   "source": [
    "df = pd.read_csv('../data/balanced_brightness-split.csv')"
   ]
  },
  {
   "cell_type": "code",
   "execution_count": 7,
   "id": "cf9e7f3f",
   "metadata": {},
   "outputs": [],
   "source": [
    "def last(x):\n",
    "    s = x.split('/')\n",
    "    return s[-1]\n",
    "\n",
    "df['audio_path'] = df['audio_path'].apply(last)"
   ]
  },
  {
   "cell_type": "code",
   "execution_count": 9,
   "id": "c4064621",
   "metadata": {},
   "outputs": [],
   "source": [
    "df.to_csv('../data/balanced_brightness-split.csv', index= False)"
   ]
  },
  {
   "cell_type": "code",
   "execution_count": 12,
   "id": "cb46432c",
   "metadata": {},
   "outputs": [],
   "source": [
    "df = pd.read_csv('../data/balanced_brightness-split.csv')\n",
    "\n",
    "df.drop('Unnamed: 0', axis = 1, inplace=True)"
   ]
  },
  {
   "cell_type": "code",
   "execution_count": 14,
   "id": "17d10faa",
   "metadata": {},
   "outputs": [],
   "source": [
    "df.to_csv('../data/balanced_brightness-split.csv', index= False)"
   ]
  },
  {
   "cell_type": "code",
   "execution_count": 15,
   "id": "4997cd48",
   "metadata": {},
   "outputs": [],
   "source": [
    "df = pd.read_csv('../data/balanced_brightness-split.csv')"
   ]
  },
  {
   "cell_type": "code",
   "execution_count": 16,
   "id": "84d33ca4",
   "metadata": {},
   "outputs": [
    {
     "data": {
      "text/html": [
       "<div>\n",
       "<style scoped>\n",
       "    .dataframe tbody tr th:only-of-type {\n",
       "        vertical-align: middle;\n",
       "    }\n",
       "\n",
       "    .dataframe tbody tr th {\n",
       "        vertical-align: top;\n",
       "    }\n",
       "\n",
       "    .dataframe thead th {\n",
       "        text-align: right;\n",
       "    }\n",
       "</style>\n",
       "<table border=\"1\" class=\"dataframe\">\n",
       "  <thead>\n",
       "    <tr style=\"text-align: right;\">\n",
       "      <th></th>\n",
       "      <th>audio_path</th>\n",
       "      <th>label</th>\n",
       "    </tr>\n",
       "  </thead>\n",
       "  <tbody>\n",
       "    <tr>\n",
       "      <th>0</th>\n",
       "      <td>AFSP_Ford_TremDaVida_Vitous_LS_150306_22h_Long...</td>\n",
       "      <td>1</td>\n",
       "    </tr>\n",
       "    <tr>\n",
       "      <th>1</th>\n",
       "      <td>AFSP_Ford_TremDaVida_Vitous_LS_150306_22h_Long...</td>\n",
       "      <td>1</td>\n",
       "    </tr>\n",
       "    <tr>\n",
       "      <th>2</th>\n",
       "      <td>AFSP_Ford_TremDaVida_Vitous_LS_150306_22h_Long...</td>\n",
       "      <td>1</td>\n",
       "    </tr>\n",
       "    <tr>\n",
       "      <th>3</th>\n",
       "      <td>AFSP_Ford_TremDaVida_Vitous_LS_150306_22h_Long...</td>\n",
       "      <td>1</td>\n",
       "    </tr>\n",
       "    <tr>\n",
       "      <th>4</th>\n",
       "      <td>AFSP_Ford_TremDaVida_Vitous_LS_150306_22h_Long...</td>\n",
       "      <td>1</td>\n",
       "    </tr>\n",
       "    <tr>\n",
       "      <th>...</th>\n",
       "      <td>...</td>\n",
       "      <td>...</td>\n",
       "    </tr>\n",
       "    <tr>\n",
       "      <th>7321</th>\n",
       "      <td>HappyFamilyYogurt_Anthem_Raspberry_180110_DH_p...</td>\n",
       "      <td>9</td>\n",
       "    </tr>\n",
       "    <tr>\n",
       "      <th>7322</th>\n",
       "      <td>HappyFamilyYogurt_Anthem_Raspberry_180110_DH_p...</td>\n",
       "      <td>9</td>\n",
       "    </tr>\n",
       "    <tr>\n",
       "      <th>7323</th>\n",
       "      <td>HappyFamilyYogurt_Anthem_Raspberry_180110_DH_p...</td>\n",
       "      <td>9</td>\n",
       "    </tr>\n",
       "    <tr>\n",
       "      <th>7324</th>\n",
       "      <td>HappyFamilyYogurt_Anthem_Raspberry_180110_DH_p...</td>\n",
       "      <td>9</td>\n",
       "    </tr>\n",
       "    <tr>\n",
       "      <th>7325</th>\n",
       "      <td>HappyFamilyYogurt_Anthem_Raspberry_180110_DH_p...</td>\n",
       "      <td>9</td>\n",
       "    </tr>\n",
       "  </tbody>\n",
       "</table>\n",
       "<p>7326 rows × 2 columns</p>\n",
       "</div>"
      ],
      "text/plain": [
       "                                             audio_path  label\n",
       "0     AFSP_Ford_TremDaVida_Vitous_LS_150306_22h_Long...      1\n",
       "1     AFSP_Ford_TremDaVida_Vitous_LS_150306_22h_Long...      1\n",
       "2     AFSP_Ford_TremDaVida_Vitous_LS_150306_22h_Long...      1\n",
       "3     AFSP_Ford_TremDaVida_Vitous_LS_150306_22h_Long...      1\n",
       "4     AFSP_Ford_TremDaVida_Vitous_LS_150306_22h_Long...      1\n",
       "...                                                 ...    ...\n",
       "7321  HappyFamilyYogurt_Anthem_Raspberry_180110_DH_p...      9\n",
       "7322  HappyFamilyYogurt_Anthem_Raspberry_180110_DH_p...      9\n",
       "7323  HappyFamilyYogurt_Anthem_Raspberry_180110_DH_p...      9\n",
       "7324  HappyFamilyYogurt_Anthem_Raspberry_180110_DH_p...      9\n",
       "7325  HappyFamilyYogurt_Anthem_Raspberry_180110_DH_p...      9\n",
       "\n",
       "[7326 rows x 2 columns]"
      ]
     },
     "execution_count": 16,
     "metadata": {},
     "output_type": "execute_result"
    }
   ],
   "source": [
    "df"
   ]
  },
  {
   "cell_type": "code",
   "execution_count": null,
   "id": "0a2c2be0",
   "metadata": {},
   "outputs": [],
   "source": []
  }
 ],
 "metadata": {
  "kernelspec": {
   "display_name": "Python 3 (ipykernel)",
   "language": "python",
   "name": "python3"
  },
  "language_info": {
   "codemirror_mode": {
    "name": "ipython",
    "version": 3
   },
   "file_extension": ".py",
   "mimetype": "text/x-python",
   "name": "python",
   "nbconvert_exporter": "python",
   "pygments_lexer": "ipython3",
   "version": "3.11.5"
  }
 },
 "nbformat": 4,
 "nbformat_minor": 5
}
