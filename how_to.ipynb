{
 "cells": [
  {
   "cell_type": "code",
   "execution_count": 68,
   "id": "676c4e32",
   "metadata": {},
   "outputs": [],
   "source": [
    "import torch\n",
    "from torch import nn, optim\n",
    "\n",
    "from torch.utils.data import DataLoader\n",
    "from audio_dataset import AudioDataset\n",
    "from perc_gen import Wav2Vec2Regression, train"
   ]
  },
  {
   "cell_type": "code",
   "execution_count": 69,
   "id": "6db43e7f",
   "metadata": {},
   "outputs": [
    {
     "name": "stdout",
     "output_type": "stream",
     "text": [
      "Getting Wav2Vec2 base model...\n"
     ]
    },
    {
     "name": "stderr",
     "output_type": "stream",
     "text": [
      "/home/pedro/.conda/envs/perc-gen/lib/python3.11/site-packages/transformers/configuration_utils.py:380: UserWarning: Passing `gradient_checkpointing` to a config initialization is deprecated and will be removed in v5 Transformers. Using `model.gradient_checkpointing_enable()` instead, or if you are using the `Trainer` API, pass `gradient_checkpointing=True` in your `TrainingArguments`.\n",
      "  warnings.warn(\n",
      "Some weights of Wav2Vec2ForCTC were not initialized from the model checkpoint at facebook/wav2vec2-base and are newly initialized: ['lm_head.weight', 'lm_head.bias']\n",
      "You should probably TRAIN this model on a down-stream task to be able to use it for predictions and inference.\n"
     ]
    }
   ],
   "source": [
    "w2v2_regression= Wav2Vec2Regression()"
   ]
  },
  {
   "cell_type": "code",
   "execution_count": 70,
   "id": "8a1c6a0e",
   "metadata": {},
   "outputs": [
    {
     "data": {
      "text/plain": [
       "16000"
      ]
     },
     "execution_count": 70,
     "metadata": {},
     "output_type": "execute_result"
    }
   ],
   "source": [
    "audio_dataset = AudioDataset('data/split_audio.csv')\n",
    "train_loader = DataLoader(dataset=audio_dataset, shuffle=True, batch_size=10)\n",
    "audio_dataset.sample_rate"
   ]
  },
  {
   "cell_type": "code",
   "execution_count": 71,
   "id": "eaa402f4",
   "metadata": {},
   "outputs": [],
   "source": [
    "criterion = torch.nn.MSELoss()\n",
    "optim = optim.AdamW(params=w2v2_regression.parameters(), lr=0.001)"
   ]
  },
  {
   "cell_type": "code",
   "execution_count": null,
   "id": "f7a74200",
   "metadata": {
    "scrolled": false
   },
   "outputs": [],
   "source": [
    "train(w2v2_regression,\n",
    "      dataloader=train_loader,\n",
    "      criterion=criterion,\n",
    "      optim=optim,\n",
    "      sample_rate=audio_dataset.sample_rate,\n",
    "     )"
   ]
  }
 ],
 "metadata": {
  "kernelspec": {
   "display_name": "Python 3 (ipykernel)",
   "language": "python",
   "name": "python3"
  },
  "language_info": {
   "codemirror_mode": {
    "name": "ipython",
    "version": 3
   },
   "file_extension": ".py",
   "mimetype": "text/x-python",
   "name": "python",
   "nbconvert_exporter": "python",
   "pygments_lexer": "ipython3",
   "version": "3.11.5"
  }
 },
 "nbformat": 4,
 "nbformat_minor": 5
}
