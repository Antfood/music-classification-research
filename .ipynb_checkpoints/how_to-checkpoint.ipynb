{
 "cells": [
  {
   "cell_type": "code",
   "execution_count": 1,
   "id": "676c4e32",
   "metadata": {},
   "outputs": [],
   "source": [
    "from transformers import Wav2Vec2ForCTC, Wav2Vec2Processor\n",
    "import torch\n",
    "from torch import nn, optim\n",
    "\n",
    "import pandas as pd\n",
    "from torch.utils.data import DataLoader\n",
    "\n",
    "from audio_dataset import AudioDataset"
   ]
  },
  {
   "cell_type": "code",
   "execution_count": 3,
   "id": "6b0129c9",
   "metadata": {},
   "outputs": [
    {
     "data": {
      "application/vnd.jupyter.widget-view+json": {
       "model_id": "9d603ed0c8104298be4d7a8544d1f904",
       "version_major": 2,
       "version_minor": 0
      },
      "text/plain": [
       "Downloading pytorch_model.bin:   0%|          | 0.00/380M [00:00<?, ?B/s]"
      ]
     },
     "metadata": {},
     "output_type": "display_data"
    },
    {
     "name": "stderr",
     "output_type": "stream",
     "text": [
      "Some weights of the model checkpoint at facebook/wav2vec2-base were not used when initializing Wav2Vec2ForCTC: ['project_q.weight', 'project_hid.bias', 'project_hid.weight', 'quantizer.weight_proj.bias', 'quantizer.codevectors', 'quantizer.weight_proj.weight', 'project_q.bias']\n",
      "- This IS expected if you are initializing Wav2Vec2ForCTC from the checkpoint of a model trained on another task or with another architecture (e.g. initializing a BertForSequenceClassification model from a BertForPreTraining model).\n",
      "- This IS NOT expected if you are initializing Wav2Vec2ForCTC from the checkpoint of a model that you expect to be exactly identical (initializing a BertForSequenceClassification model from a BertForSequenceClassification model).\n",
      "Some weights of Wav2Vec2ForCTC were not initialized from the model checkpoint at facebook/wav2vec2-base and are newly initialized: ['lm_head.weight', 'lm_head.bias']\n",
      "You should probably TRAIN this model on a down-stream task to be able to use it for predictions and inference.\n"
     ]
    }
   ],
   "source": [
    "processor = Wav2Vec2Processor.from_pretrained('facebook/wav2vec2-base')\n",
    "model = Wav2Vec2ForCTC.from_pretrained('facebook/wav2vec2-base')\n"
   ]
  },
  {
   "cell_type": "code",
   "execution_count": 11,
   "id": "e5166f0c",
   "metadata": {},
   "outputs": [],
   "source": [
    "class Wav2Vec2Regression(nn.Module):\n",
    "    def __init__(self, wav2vec2_model, freeze = True):\n",
    "        super().__init__()\n",
    "        \n",
    "        self.wav2vec2 = wav2vec2_model\n",
    "        \n",
    "        if freeze:\n",
    "            for param in self.wav2vec2.parameters():\n",
    "                param.requires_grad = False\n",
    "        \n",
    "        self.regression_head = nn.Linear(self.wav2vec2.config.hidden_size, 1)\n",
    "        self.out_activation = nn.Sigmoid()\n",
    "        \n",
    "        \n",
    "    def forward(self, x):\n",
    "        out = self.wav2vec2(x).logits\n",
    "        out = self.regression_head(out)\n",
    "        return self.out_activation(out)\n",
    "        "
   ]
  },
  {
   "cell_type": "code",
   "execution_count": 12,
   "id": "6db43e7f",
   "metadata": {},
   "outputs": [],
   "source": [
    "wav2vec2_regresssion = Wav2Vec2Regression(model)"
   ]
  },
  {
   "cell_type": "code",
   "execution_count": null,
   "id": "eaa402f4",
   "metadata": {},
   "outputs": [],
   "source": []
  }
 ],
 "metadata": {
  "kernelspec": {
   "display_name": "Python 3 (ipykernel)",
   "language": "python",
   "name": "python3"
  },
  "language_info": {
   "codemirror_mode": {
    "name": "ipython",
    "version": 3
   },
   "file_extension": ".py",
   "mimetype": "text/x-python",
   "name": "python",
   "nbconvert_exporter": "python",
   "pygments_lexer": "ipython3",
   "version": "3.11.5"
  }
 },
 "nbformat": 4,
 "nbformat_minor": 5
}
